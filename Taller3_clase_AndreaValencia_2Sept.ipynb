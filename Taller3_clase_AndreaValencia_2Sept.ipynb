{
 "cells": [
  {
   "cell_type": "markdown",
   "id": "a783459b-19a8-43fc-a4b9-1192f477ee99",
   "metadata": {},
   "source": [
    "### Estudiante: Andrea Valencia Orozco.\n",
    "#### Análisis Exploratorio de Datos."
   ]
  },
  {
   "cell_type": "markdown",
   "id": "0db455dd-d41f-4539-a551-2b92b8bf1711",
   "metadata": {},
   "source": [
    "### Cargar librerias"
   ]
  },
  {
   "cell_type": "code",
   "execution_count": 337,
   "id": "8b61ca26-a825-4c1d-99f3-8697ecc92aab",
   "metadata": {},
   "outputs": [],
   "source": [
    "import numpy as np\n",
    "import pandas as pd\n",
    "import warnings\n",
    "warnings.filterwarnings('ignore')\n",
    "from sklearn.metrics import mean_squared_error\n",
    "import seaborn as sns\n",
    "\n",
    "from sklearn.preprocessing import StandardScaler, PowerTransformer\n",
    "from sklearn.compose import TransformedTargetRegressor\n",
    "from sklearn.pipeline import FeatureUnion, Pipeline, make_pipeline\n",
    "from sklearn.base import BaseEstimator, TransformerMixin\n",
    "\n",
    "from sklearn.linear_model import LinearRegression"
   ]
  },
  {
   "cell_type": "markdown",
   "id": "b5d1a77d-6ced-4641-a737-d797cdaf85b6",
   "metadata": {},
   "source": [
    "### Casos experimentales"
   ]
  },
  {
   "cell_type": "markdown",
   "id": "01f12af5-cf96-471d-96dd-70cb95c52364",
   "metadata": {},
   "source": [
    "Se analizaron tres (3) casos que emplearon datos experimentales/simulados con el fin de ilustrar la aplicación de los Pipelines."
   ]
  },
  {
   "cell_type": "markdown",
   "id": "0c0dd772-37bc-4134-9a3c-a315bec57549",
   "metadata": {},
   "source": [
    "### Caso 1"
   ]
  },
  {
   "cell_type": "code",
   "execution_count": 338,
   "id": "9f195665-e2b3-4fa1-a9dc-7c63877dce38",
   "metadata": {},
   "outputs": [],
   "source": [
    "np.random.seed(0)\n",
    "x = np.arange(1, 11) \n",
    "y = 2 * X + 1  \n",
    "\n",
    "df = pd.DataFrame({'x': x, 'y': y})"
   ]
  },
  {
   "cell_type": "code",
   "execution_count": 339,
   "id": "e74fae2f-fe91-4093-bd63-485912594778",
   "metadata": {},
   "outputs": [
    {
     "data": {
      "text/html": [
       "<div>\n",
       "<style scoped>\n",
       "    .dataframe tbody tr th:only-of-type {\n",
       "        vertical-align: middle;\n",
       "    }\n",
       "\n",
       "    .dataframe tbody tr th {\n",
       "        vertical-align: top;\n",
       "    }\n",
       "\n",
       "    .dataframe thead th {\n",
       "        text-align: right;\n",
       "    }\n",
       "</style>\n",
       "<table border=\"1\" class=\"dataframe\">\n",
       "  <thead>\n",
       "    <tr style=\"text-align: right;\">\n",
       "      <th></th>\n",
       "      <th>x</th>\n",
       "      <th>y</th>\n",
       "    </tr>\n",
       "  </thead>\n",
       "  <tbody>\n",
       "    <tr>\n",
       "      <th>0</th>\n",
       "      <td>1</td>\n",
       "      <td>3</td>\n",
       "    </tr>\n",
       "    <tr>\n",
       "      <th>1</th>\n",
       "      <td>2</td>\n",
       "      <td>5</td>\n",
       "    </tr>\n",
       "    <tr>\n",
       "      <th>2</th>\n",
       "      <td>3</td>\n",
       "      <td>7</td>\n",
       "    </tr>\n",
       "    <tr>\n",
       "      <th>3</th>\n",
       "      <td>4</td>\n",
       "      <td>9</td>\n",
       "    </tr>\n",
       "    <tr>\n",
       "      <th>4</th>\n",
       "      <td>5</td>\n",
       "      <td>11</td>\n",
       "    </tr>\n",
       "    <tr>\n",
       "      <th>5</th>\n",
       "      <td>6</td>\n",
       "      <td>13</td>\n",
       "    </tr>\n",
       "    <tr>\n",
       "      <th>6</th>\n",
       "      <td>7</td>\n",
       "      <td>15</td>\n",
       "    </tr>\n",
       "    <tr>\n",
       "      <th>7</th>\n",
       "      <td>8</td>\n",
       "      <td>17</td>\n",
       "    </tr>\n",
       "    <tr>\n",
       "      <th>8</th>\n",
       "      <td>9</td>\n",
       "      <td>19</td>\n",
       "    </tr>\n",
       "    <tr>\n",
       "      <th>9</th>\n",
       "      <td>10</td>\n",
       "      <td>21</td>\n",
       "    </tr>\n",
       "  </tbody>\n",
       "</table>\n",
       "</div>"
      ],
      "text/plain": [
       "    x   y\n",
       "0   1   3\n",
       "1   2   5\n",
       "2   3   7\n",
       "3   4   9\n",
       "4   5  11\n",
       "5   6  13\n",
       "6   7  15\n",
       "7   8  17\n",
       "8   9  19\n",
       "9  10  21"
      ]
     },
     "execution_count": 339,
     "metadata": {},
     "output_type": "execute_result"
    }
   ],
   "source": [
    "df"
   ]
  },
  {
   "cell_type": "code",
   "execution_count": 340,
   "id": "95977f05-4ddf-476f-8590-1985417f0a22",
   "metadata": {},
   "outputs": [
    {
     "data": {
      "text/plain": [
       "<seaborn.axisgrid.PairGrid at 0x29b4fca60>"
      ]
     },
     "execution_count": 340,
     "metadata": {},
     "output_type": "execute_result"
    },
    {
     "data": {
      "image/png": "[encoded data removed]",
      "text/plain": [
       "<Figure size 500x500 with 6 Axes>"
      ]
     },
     "metadata": {},
     "output_type": "display_data"
    }
   ],
   "source": [
    "sns.pairplot(df)"
   ]
  },
  {
   "cell_type": "code",
   "execution_count": 341,
   "id": "851c3916-b275-4d85-94bd-2233a84b3b7a",
   "metadata": {},
   "outputs": [],
   "source": [
    "train = df.iloc[:8]\n",
    "test = df.iloc[8:]\n",
    "\n",
    "train_x = train.drop('y', axis = 1)\n",
    "train_y = train.y\n",
    "\n",
    "test_x = test.drop('y', axis = 1)\n",
    "test_y = test.y"
   ]
  },
  {
   "cell_type": "code",
   "execution_count": 342,
   "id": "bbe53c82-f9e8-4e2c-9438-280c25b08bea",
   "metadata": {},
   "outputs": [
    {
     "name": "stdout",
     "output_type": "stream",
     "text": [
      "\n",
      "[19. 21.]\n",
      "RMSE: 0.0\n",
      "\n"
     ]
    }
   ],
   "source": [
    "m1 = LinearRegression()\n",
    "fit1 = m1.fit(train_x, train_y)\n",
    "preds = fit1.predict(test_x)\n",
    "print(f'\\n{preds}')\n",
    "print(f'RMSE: {np.sqrt(mean_squared_error(test_y, preds))}\\n')"
   ]
  },
  {
   "cell_type": "code",
   "execution_count": 343,
   "id": "ed8942e3-3e25-482b-b07f-6e4093e66458",
   "metadata": {},
   "outputs": [
    {
     "name": "stdout",
     "output_type": "stream",
     "text": [
      "crear pipeline 1\n"
     ]
    }
   ],
   "source": [
    "print('crear pipeline 1')\n",
    "\n",
    "pipe1 = Pipeline(steps=[\n",
    "                        ('regresion', LinearRegression())\n",
    "])"
   ]
  },
  {
   "cell_type": "markdown",
   "id": "cb0af5bb-be18-4602-83ed-2e299431f260",
   "metadata": {},
   "source": [
    "Se aplicó una regresión lineal a un conjunto de datos que exhiben una relación perfecta. Esto se usó posteriormente desde los Pipelines."
   ]
  },
  {
   "cell_type": "code",
   "execution_count": 344,
   "id": "1080bf7d-44ff-459d-9796-15a3436fd3d6",
   "metadata": {},
   "outputs": [
    {
     "name": "stdout",
     "output_type": "stream",
     "text": [
      "fit 1\n",
      "predichos\n",
      "\n",
      "[19. 21.]\n",
      "RMSE: 0.0\n",
      "\n"
     ]
    }
   ],
   "source": [
    "print('fit 1')\n",
    "pipe1.fit(train_x,train_y)\n",
    "\n",
    "print('predichos')\n",
    "preds1 = pipe1.predict(test_x)\n",
    "\n",
    "print(f'\\n{preds1}')\n",
    "print(f'RMSE: {np.sqrt(mean_squared_error(test_y, preds1))}\\n')"
   ]
  },
  {
   "cell_type": "markdown",
   "id": "15a226c0-c14e-4398-bb7f-95938c4f1157",
   "metadata": {},
   "source": [
    "### Caso 2"
   ]
  },
  {
   "cell_type": "markdown",
   "id": "a396fa3e-8304-448c-a7de-82521bbcf7fd",
   "metadata": {},
   "source": [
    "Ahora se hace una transformación sobre x como ejercicio nuevamente:"
   ]
  },
  {
   "cell_type": "code",
   "execution_count": 345,
   "id": "87367225-f22c-41e1-9a33-e3d9cc6585d2",
   "metadata": {},
   "outputs": [],
   "source": [
    "np.random.seed(0)\n",
    "x = np.arange(1, 11) \n",
    "y = x**2 + 4\n",
    "\n",
    "df = pd.DataFrame({'x': x, 'y': y})"
   ]
  },
  {
   "cell_type": "code",
   "execution_count": 346,
   "id": "3211b798-d54e-484d-b181-128f95312a85",
   "metadata": {},
   "outputs": [
    {
     "data": {
      "text/html": [
       "<div>\n",
       "<style scoped>\n",
       "    .dataframe tbody tr th:only-of-type {\n",
       "        vertical-align: middle;\n",
       "    }\n",
       "\n",
       "    .dataframe tbody tr th {\n",
       "        vertical-align: top;\n",
       "    }\n",
       "\n",
       "    .dataframe thead th {\n",
       "        text-align: right;\n",
       "    }\n",
       "</style>\n",
       "<table border=\"1\" class=\"dataframe\">\n",
       "  <thead>\n",
       "    <tr style=\"text-align: right;\">\n",
       "      <th></th>\n",
       "      <th>x</th>\n",
       "      <th>y</th>\n",
       "    </tr>\n",
       "  </thead>\n",
       "  <tbody>\n",
       "    <tr>\n",
       "      <th>0</th>\n",
       "      <td>1</td>\n",
       "      <td>5</td>\n",
       "    </tr>\n",
       "    <tr>\n",
       "      <th>1</th>\n",
       "      <td>2</td>\n",
       "      <td>8</td>\n",
       "    </tr>\n",
       "    <tr>\n",
       "      <th>2</th>\n",
       "      <td>3</td>\n",
       "      <td>13</td>\n",
       "    </tr>\n",
       "    <tr>\n",
       "      <th>3</th>\n",
       "      <td>4</td>\n",
       "      <td>20</td>\n",
       "    </tr>\n",
       "    <tr>\n",
       "      <th>4</th>\n",
       "      <td>5</td>\n",
       "      <td>29</td>\n",
       "    </tr>\n",
       "    <tr>\n",
       "      <th>5</th>\n",
       "      <td>6</td>\n",
       "      <td>40</td>\n",
       "    </tr>\n",
       "    <tr>\n",
       "      <th>6</th>\n",
       "      <td>7</td>\n",
       "      <td>53</td>\n",
       "    </tr>\n",
       "    <tr>\n",
       "      <th>7</th>\n",
       "      <td>8</td>\n",
       "      <td>68</td>\n",
       "    </tr>\n",
       "    <tr>\n",
       "      <th>8</th>\n",
       "      <td>9</td>\n",
       "      <td>85</td>\n",
       "    </tr>\n",
       "    <tr>\n",
       "      <th>9</th>\n",
       "      <td>10</td>\n",
       "      <td>104</td>\n",
       "    </tr>\n",
       "  </tbody>\n",
       "</table>\n",
       "</div>"
      ],
      "text/plain": [
       "    x    y\n",
       "0   1    5\n",
       "1   2    8\n",
       "2   3   13\n",
       "3   4   20\n",
       "4   5   29\n",
       "5   6   40\n",
       "6   7   53\n",
       "7   8   68\n",
       "8   9   85\n",
       "9  10  104"
      ]
     },
     "execution_count": 346,
     "metadata": {},
     "output_type": "execute_result"
    }
   ],
   "source": [
    "df"
   ]
  },
  {
   "cell_type": "code",
   "execution_count": 347,
   "id": "7ffcca35-4e77-411b-b1ab-6a0aa8609b21",
   "metadata": {},
   "outputs": [
    {
     "data": {
      "text/plain": [
       "<seaborn.axisgrid.PairGrid at 0x29cc2df00>"
      ]
     },
     "execution_count": 347,
     "metadata": {},
     "output_type": "execute_result"
    },
    {
     "data": {
      "image/png": "[encoded data removed]",
      "text/plain": [
       "<Figure size 500x500 with 6 Axes>"
      ]
     },
     "metadata": {},
     "output_type": "display_data"
    }
   ],
   "source": [
    "sns.pairplot(df)"
   ]
  },
  {
   "cell_type": "code",
   "execution_count": 348,
   "id": "4c3c3bfa-3951-4106-84bc-ef34c3e48851",
   "metadata": {},
   "outputs": [],
   "source": [
    "train = df.iloc[:8]\n",
    "test = df.iloc[8:]\n",
    "\n",
    "train_x = train.drop('y', axis = 1)\n",
    "train_y = train.y\n",
    "\n",
    "test_x = test.drop('y', axis = 1)\n",
    "test_y = test.y"
   ]
  },
  {
   "cell_type": "code",
   "execution_count": 349,
   "id": "602f8618-5f1d-42b8-8ee3-9670a9702082",
   "metadata": {},
   "outputs": [
    {
     "name": "stdout",
     "output_type": "stream",
     "text": [
      "\n",
      "[19. 21.]\n",
      "RMSE: 20.615528128088304\n",
      "\n"
     ]
    }
   ],
   "source": [
    "m2 = LinearRegression()\n",
    "fit2 = m2.fit(train_x, train_y)\n",
    "preds2 = fit2.predict(test_x)\n",
    "print(f'\\n{preds}')\n",
    "print(f'RMSE: {np.sqrt(mean_squared_error(test_y, preds2))}\\n')"
   ]
  },
  {
   "cell_type": "code",
   "execution_count": 350,
   "id": "e38be0e0-ae4c-419b-8d43-98e5799b5047",
   "metadata": {},
   "outputs": [],
   "source": [
    "class Experimental_Transformer(BaseEstimator, TransformerMixin):\n",
    "    \n",
    "    def __init__(self):\n",
    "        print('\\n>>>>>>> init() called.\\n')\n",
    "\n",
    "    def fit(self, df, y=None):\n",
    "        print('\\n>>>>>>> fit() called.\\n')\n",
    "        return self\n",
    "\n",
    "    def transform(self, df, y=None):\n",
    "        print('\\n>>>>>>> transform() called.\\n')\n",
    "        df_ = df.copy()\n",
    "        df_['x'] = np.sqrt(df_['x']) \n",
    "        return df_"
   ]
  },
  {
   "cell_type": "code",
   "execution_count": 351,
   "id": "18e6760d-f0ab-4fb2-a0d9-66adc18c0cc0",
   "metadata": {},
   "outputs": [
    {
     "name": "stdout",
     "output_type": "stream",
     "text": [
      "crear pipeline 2\n",
      "\n",
      ">>>>>>> init() called.\n",
      "\n"
     ]
    }
   ],
   "source": [
    "print('crear pipeline 2')\n",
    "\n",
    "pipe2 = Pipeline(steps=[\n",
    "                        ('experimental_trans', Experimental_Transformer()),\n",
    "                        ('regresion', LinearRegression())])"
   ]
  },
  {
   "cell_type": "code",
   "execution_count": 352,
   "id": "508fd144-d070-456a-a9ed-ce09927874ab",
   "metadata": {},
   "outputs": [
    {
     "name": "stdout",
     "output_type": "stream",
     "text": [
      "fit 2\n",
      "\n",
      ">>>>>>> fit() called.\n",
      "\n",
      "\n",
      ">>>>>>> transform() called.\n",
      "\n",
      "predichos 2\n",
      "\n",
      ">>>>>>> transform() called.\n",
      "\n",
      "\n",
      "[61.92144251 67.39196623]\n",
      "RMSE: 30.600391766801213\n",
      "\n"
     ]
    }
   ],
   "source": [
    "print('fit 2')\n",
    "pipe2.fit(train_x,train_y)\n",
    "\n",
    "print('predichos 2')\n",
    "preds2 = pipe2.predict(test_x)\n",
    "\n",
    "print(f'\\n{preds2}')\n",
    "print(f'RMSE: {np.sqrt(mean_squared_error(test_y, preds2))}\\n')"
   ]
  },
  {
   "cell_type": "markdown",
   "id": "e46c2206-127b-40ea-b143-29158012c920",
   "metadata": {},
   "source": [
    "### Caso 3"
   ]
  },
  {
   "cell_type": "code",
   "execution_count": 353,
   "id": "8c1c7a23-c767-44db-bb0a-bedfe2528633",
   "metadata": {},
   "outputs": [],
   "source": [
    "n_samples = 100\n",
    "x1 = np.random.rand(n_samples)  \n",
    "x2 = np.random.rand(n_samples) \n",
    "y = x1 + 2 * np.sqrt(x2)\n",
    "\n",
    "data = {'x1': x1, 'x2': x2, 'y': y}\n",
    "df = pd.DataFrame(data)"
   ]
  },
  {
   "cell_type": "code",
   "execution_count": 354,
   "id": "838b11c7-02b1-4977-9c49-a05c78cdb122",
   "metadata": {},
   "outputs": [
    {
     "data": {
      "text/html": [
       "<div>\n",
       "<style scoped>\n",
       "    .dataframe tbody tr th:only-of-type {\n",
       "        vertical-align: middle;\n",
       "    }\n",
       "\n",
       "    .dataframe tbody tr th {\n",
       "        vertical-align: top;\n",
       "    }\n",
       "\n",
       "    .dataframe thead th {\n",
       "        text-align: right;\n",
       "    }\n",
       "</style>\n",
       "<table border=\"1\" class=\"dataframe\">\n",
       "  <thead>\n",
       "    <tr style=\"text-align: right;\">\n",
       "      <th></th>\n",
       "      <th>x1</th>\n",
       "      <th>x2</th>\n",
       "      <th>y</th>\n",
       "    </tr>\n",
       "  </thead>\n",
       "  <tbody>\n",
       "    <tr>\n",
       "      <th>0</th>\n",
       "      <td>0.548814</td>\n",
       "      <td>0.677817</td>\n",
       "      <td>2.195406</td>\n",
       "    </tr>\n",
       "    <tr>\n",
       "      <th>1</th>\n",
       "      <td>0.715189</td>\n",
       "      <td>0.270008</td>\n",
       "      <td>1.754435</td>\n",
       "    </tr>\n",
       "    <tr>\n",
       "      <th>2</th>\n",
       "      <td>0.602763</td>\n",
       "      <td>0.735194</td>\n",
       "      <td>2.317632</td>\n",
       "    </tr>\n",
       "    <tr>\n",
       "      <th>3</th>\n",
       "      <td>0.544883</td>\n",
       "      <td>0.962189</td>\n",
       "      <td>2.506707</td>\n",
       "    </tr>\n",
       "    <tr>\n",
       "      <th>4</th>\n",
       "      <td>0.423655</td>\n",
       "      <td>0.248753</td>\n",
       "      <td>1.421158</td>\n",
       "    </tr>\n",
       "    <tr>\n",
       "      <th>...</th>\n",
       "      <td>...</td>\n",
       "      <td>...</td>\n",
       "      <td>...</td>\n",
       "    </tr>\n",
       "    <tr>\n",
       "      <th>95</th>\n",
       "      <td>0.183191</td>\n",
       "      <td>0.490459</td>\n",
       "      <td>1.583847</td>\n",
       "    </tr>\n",
       "    <tr>\n",
       "      <th>96</th>\n",
       "      <td>0.586513</td>\n",
       "      <td>0.227415</td>\n",
       "      <td>1.540273</td>\n",
       "    </tr>\n",
       "    <tr>\n",
       "      <th>97</th>\n",
       "      <td>0.020108</td>\n",
       "      <td>0.254356</td>\n",
       "      <td>1.028783</td>\n",
       "    </tr>\n",
       "    <tr>\n",
       "      <th>98</th>\n",
       "      <td>0.828940</td>\n",
       "      <td>0.058029</td>\n",
       "      <td>1.310725</td>\n",
       "    </tr>\n",
       "    <tr>\n",
       "      <th>99</th>\n",
       "      <td>0.004695</td>\n",
       "      <td>0.434417</td>\n",
       "      <td>1.322901</td>\n",
       "    </tr>\n",
       "  </tbody>\n",
       "</table>\n",
       "<p>100 rows × 3 columns</p>\n",
       "</div>"
      ],
      "text/plain": [
       "          x1        x2         y\n",
       "0   0.548814  0.677817  2.195406\n",
       "1   0.715189  0.270008  1.754435\n",
       "2   0.602763  0.735194  2.317632\n",
       "3   0.544883  0.962189  2.506707\n",
       "4   0.423655  0.248753  1.421158\n",
       "..       ...       ...       ...\n",
       "95  0.183191  0.490459  1.583847\n",
       "96  0.586513  0.227415  1.540273\n",
       "97  0.020108  0.254356  1.028783\n",
       "98  0.828940  0.058029  1.310725\n",
       "99  0.004695  0.434417  1.322901\n",
       "\n",
       "[100 rows x 3 columns]"
      ]
     },
     "execution_count": 354,
     "metadata": {},
     "output_type": "execute_result"
    }
   ],
   "source": [
    "df"
   ]
  },
  {
   "cell_type": "code",
   "execution_count": 355,
   "id": "b7c2202a-c377-4c18-8e6b-2b6c94744769",
   "metadata": {},
   "outputs": [
    {
     "data": {
      "text/plain": [
       "<seaborn.axisgrid.PairGrid at 0x29d18feb0>"
      ]
     },
     "execution_count": 355,
     "metadata": {},
     "output_type": "execute_result"
    },
    {
     "data": {
      "image/png": "[encoded data removed]",
      "text/plain": [
       "<Figure size 750x750 with 12 Axes>"
      ]
     },
     "metadata": {},
     "output_type": "display_data"
    }
   ],
   "source": [
    "sns.pairplot(df)"
   ]
  },
  {
   "cell_type": "code",
   "execution_count": 356,
   "id": "8c3f8a1a-d7a7-4c7a-bd44-7b566491ccbb",
   "metadata": {},
   "outputs": [],
   "source": [
    "train = df.iloc[:79]\n",
    "test = df.iloc[79:]\n",
    "\n",
    "train_x = train.drop('y', axis = 1)\n",
    "train_y = train.y\n",
    "\n",
    "test_x = test.drop('y', axis = 1)\n",
    "test_y = test.y"
   ]
  },
  {
   "cell_type": "code",
   "execution_count": 357,
   "id": "3d4ce295-5ab8-4a99-a41c-753f1f1b2da1",
   "metadata": {},
   "outputs": [
    {
     "name": "stdout",
     "output_type": "stream",
     "text": [
      "\n",
      "[19. 21.]\n",
      "RMSE: 0.09071950016991695\n",
      "\n"
     ]
    }
   ],
   "source": [
    "m3 = LinearRegression()\n",
    "fit3 = m2.fit(train_x, train_y)\n",
    "preds3 = fit2.predict(test_x)\n",
    "print(f'\\n{preds}')\n",
    "print(f'RMSE: {np.sqrt(mean_squared_error(test_y, preds3))}\\n')"
   ]
  },
  {
   "cell_type": "code",
   "execution_count": 358,
   "id": "7bc61b7d-0f82-43cf-a62f-1b392285f708",
   "metadata": {},
   "outputs": [],
   "source": [
    "class ExperimentalTransformer(BaseEstimator, TransformerMixin):   \n",
    "    \n",
    "  def __init__(self):\n",
    "    print('\\n>>>>>>>init() called.\\n')\n",
    "    \n",
    "  def fit(self, X, y = None):\n",
    "    print('\\n>>>>>>>fit() called.\\n')\n",
    "    return self\n",
    "\n",
    "  def transform(self, X, y = None):\n",
    "    print('\\n>>>>>>>transform() called.\\n')\n",
    "    X_ = X.copy()\n",
    "    X_.x2 = 2 * np.sqrt(X_.x2)\n",
    "    return X_"
   ]
  },
  {
   "cell_type": "code",
   "execution_count": 359,
   "id": "45182e05-0e82-4a53-874c-7f937a758519",
   "metadata": {},
   "outputs": [
    {
     "name": "stdout",
     "output_type": "stream",
     "text": [
      "create pipeline 3\n",
      "\n",
      ">>>>>>>init() called.\n",
      "\n",
      "fit pipeline 2\n",
      "\n",
      ">>>>>>>fit() called.\n",
      "\n",
      "\n",
      ">>>>>>>transform() called.\n",
      "\n",
      "predict via pipeline 2\n",
      "\n",
      ">>>>>>>transform() called.\n",
      "\n",
      "\n",
      "[0.47559705 1.12963374 1.99094102 1.58365872 1.66795727 2.49969638\n",
      " 1.83250909 1.98698683 1.63005246 2.28489006 2.04633692 1.58066413\n",
      " 1.58358449 0.99479961 2.65990369 2.00934888 1.58384665 1.54027313\n",
      " 1.02878288 1.31072488 1.32290127]\n",
      "RMSE: 2.323777252720854e-16\n",
      "\n"
     ]
    }
   ],
   "source": [
    "print(\"create pipeline 3\")\n",
    "pipe3 = Pipeline(steps=[\n",
    "                       ('experimental_trans', ExperimentalTransformer()),    # esto dispara una llamda a __init__\n",
    "                       ('linear_model', LinearRegression())\n",
    "])\n",
    "\n",
    "\n",
    "print(\"fit pipeline 2\")\n",
    "pipe3.fit(train_x, train_y)\n",
    "\n",
    "print(\"predict via pipeline 2\")\n",
    "preds3 = pipe3.predict(test_x)\n",
    "\n",
    "print(f\"\\n{preds3}\")  \n",
    "print(f\"RMSE: {np.sqrt(mean_squared_error(test_y, preds3))}\\n\")"
   ]
  }
 ],
 "metadata": {
  "kernelspec": {
   "display_name": "Python 3 (ipykernel)",
   "language": "python",
   "name": "python3"
  },
  "language_info": {
   "codemirror_mode": {
    "name": "ipython",
    "version": 3
   },
   "file_extension": ".py",
   "mimetype": "text/x-python",
   "name": "python",
   "nbconvert_exporter": "python",
   "pygments_lexer": "ipython3",
   "version": "3.10.9"
  }
 },
 "nbformat": 4,
 "nbformat_minor": 5
}
